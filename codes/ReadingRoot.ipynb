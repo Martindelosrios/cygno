{
 "cells": [
  {
   "cell_type": "code",
   "execution_count": null,
   "id": "66f3b467",
   "metadata": {},
   "outputs": [],
   "source": [
    "import numpy as np\n",
    "import matplotlib.pyplot as plt\n",
    "import pandas as pd\n",
    "\n",
    "import uproot"
   ]
  },
  {
   "cell_type": "code",
   "execution_count": null,
   "id": "cf117cc5",
   "metadata": {},
   "outputs": [],
   "source": [
    "!ls ../data"
   ]
  },
  {
   "cell_type": "code",
   "execution_count": null,
   "id": "dedeb24e",
   "metadata": {},
   "outputs": [],
   "source": [
    "# Open the ROOT file\n",
    "file = uproot.open(\"../data/4gas_He_6keV_part0.root\")"
   ]
  },
  {
   "cell_type": "code",
   "execution_count": null,
   "id": "41ee92d9",
   "metadata": {},
   "outputs": [],
   "source": [
    "dir(file)"
   ]
  },
  {
   "cell_type": "code",
   "execution_count": null,
   "id": "459f4937",
   "metadata": {},
   "outputs": [],
   "source": [
    "ev_names = file.keys()\n",
    "len(ev_names)"
   ]
  },
  {
   "cell_type": "code",
   "execution_count": null,
   "id": "a2df936e",
   "metadata": {},
   "outputs": [],
   "source": [
    "# The last element contains the real info of the events\n",
    "file[ev_names[-1]].keys()"
   ]
  },
  {
   "cell_type": "code",
   "execution_count": null,
   "id": "a83b829f",
   "metadata": {},
   "outputs": [],
   "source": [
    "aux_dict = {key: file[ev_names[-1] + '/' + key].arrays(library='np')[key] for key in file[ev_names[-1]].keys()}"
   ]
  },
  {
   "cell_type": "code",
   "execution_count": null,
   "id": "5c06e54d",
   "metadata": {},
   "outputs": [],
   "source": [
    "fig,ax = plt.subplots(6,3, figsize = (10,10))\n",
    "\n",
    "plt.subplots_adjust(hspace=0.9)\n",
    "key_names = list(aux_dict.keys())\n",
    "for i in range(6):\n",
    "    for j in range(3):\n",
    "        c = i*3 + j + 2\n",
    "        ax[i,j].hist(aux_dict[key_names[c]])\n",
    "        ax[i,j].set_xlabel(key_names[c])"
   ]
  },
  {
   "cell_type": "code",
   "execution_count": null,
   "id": "8832811a",
   "metadata": {},
   "outputs": [],
   "source": [
    "aux_dict['eventnumber'][np.argmax(aux_dict['proj_track_2D'])]"
   ]
  },
  {
   "cell_type": "code",
   "execution_count": null,
   "id": "15bdc086",
   "metadata": {},
   "outputs": [],
   "source": [
    "dir(file[ev_names[0]])"
   ]
  },
  {
   "cell_type": "code",
   "execution_count": null,
   "id": "bf5aa59d",
   "metadata": {},
   "outputs": [],
   "source": [
    "dat = file[ev_names[860]].to_numpy()"
   ]
  },
  {
   "cell_type": "code",
   "execution_count": null,
   "id": "68862076",
   "metadata": {},
   "outputs": [],
   "source": [
    "file[ev_names[860]].counts()"
   ]
  },
  {
   "cell_type": "code",
   "execution_count": null,
   "id": "dbcf4fe2",
   "metadata": {},
   "outputs": [],
   "source": [
    "# dat[0], file[ev_names[860]].counts() and file[ev_names[860]].values() are the same"
   ]
  },
  {
   "cell_type": "code",
   "execution_count": null,
   "id": "d938252c",
   "metadata": {},
   "outputs": [],
   "source": [
    "np.max(dat[0])"
   ]
  },
  {
   "cell_type": "code",
   "execution_count": null,
   "id": "adfd32f2",
   "metadata": {},
   "outputs": [],
   "source": [
    "plt.imshow(dat[0])\n",
    "plt.colorbar()"
   ]
  },
  {
   "cell_type": "code",
   "execution_count": null,
   "id": "0653dbc9",
   "metadata": {},
   "outputs": [],
   "source": []
  }
 ],
 "metadata": {
  "kernelspec": {
   "display_name": "Python 3 (ipykernel)",
   "language": "python",
   "name": "python3"
  }
 },
 "nbformat": 4,
 "nbformat_minor": 5
}
